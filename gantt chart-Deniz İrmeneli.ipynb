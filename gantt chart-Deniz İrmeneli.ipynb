{
 "cells": [
  {
   "cell_type": "code",
   "execution_count": 12,
   "id": "86111711",
   "metadata": {},
   "outputs": [],
   "source": [
    "import matplotlib.pyplot as plt\n",
    "import pandas as pd\n",
    "import numpy as np"
   ]
  },
  {
   "cell_type": "code",
   "execution_count": 13,
   "id": "2d9325a4",
   "metadata": {},
   "outputs": [
    {
     "data": {
      "text/html": [
       "<div>\n",
       "<style scoped>\n",
       "    .dataframe tbody tr th:only-of-type {\n",
       "        vertical-align: middle;\n",
       "    }\n",
       "\n",
       "    .dataframe tbody tr th {\n",
       "        vertical-align: top;\n",
       "    }\n",
       "\n",
       "    .dataframe thead th {\n",
       "        text-align: right;\n",
       "    }\n",
       "</style>\n",
       "<table border=\"1\" class=\"dataframe\">\n",
       "  <thead>\n",
       "    <tr style=\"text-align: right;\">\n",
       "      <th></th>\n",
       "      <th>Gorev</th>\n",
       "      <th>Baslangıc</th>\n",
       "      <th>Bitis</th>\n",
       "      <th>Gunler</th>\n",
       "      <th>color</th>\n",
       "    </tr>\n",
       "  </thead>\n",
       "  <tbody>\n",
       "    <tr>\n",
       "      <th>0</th>\n",
       "      <td>Planlama</td>\n",
       "      <td>2023-01-15</td>\n",
       "      <td>2023-03-15</td>\n",
       "      <td>59 days</td>\n",
       "      <td>(0.8941176470588236, 0.10196078431372549, 0.10...</td>\n",
       "    </tr>\n",
       "    <tr>\n",
       "      <th>1</th>\n",
       "      <td>Araştırma</td>\n",
       "      <td>2023-02-15</td>\n",
       "      <td>2023-03-15</td>\n",
       "      <td>28 days</td>\n",
       "      <td>(0.21568627450980393, 0.49411764705882355, 0.7...</td>\n",
       "    </tr>\n",
       "    <tr>\n",
       "      <th>2</th>\n",
       "      <td>Dizayn</td>\n",
       "      <td>2023-03-01</td>\n",
       "      <td>2023-04-15</td>\n",
       "      <td>45 days</td>\n",
       "      <td>(0.30196078431372547, 0.6862745098039216, 0.29...</td>\n",
       "    </tr>\n",
       "    <tr>\n",
       "      <th>3</th>\n",
       "      <td>Uygulama</td>\n",
       "      <td>2023-04-15</td>\n",
       "      <td>2023-07-01</td>\n",
       "      <td>77 days</td>\n",
       "      <td>(0.596078431372549, 0.3058823529411765, 0.6392...</td>\n",
       "    </tr>\n",
       "    <tr>\n",
       "      <th>4</th>\n",
       "      <td>Test</td>\n",
       "      <td>2023-06-15</td>\n",
       "      <td>2023-07-15</td>\n",
       "      <td>30 days</td>\n",
       "      <td>(1.0, 0.4980392156862745, 0.0)</td>\n",
       "    </tr>\n",
       "    <tr>\n",
       "      <th>5</th>\n",
       "      <td>Kalite_kontrol</td>\n",
       "      <td>2023-07-15</td>\n",
       "      <td>2023-07-15</td>\n",
       "      <td>0 days</td>\n",
       "      <td>(1.0, 1.0, 0.2)</td>\n",
       "    </tr>\n",
       "    <tr>\n",
       "      <th>6</th>\n",
       "      <td>Kabul_testi</td>\n",
       "      <td>2023-07-01</td>\n",
       "      <td>2023-07-15</td>\n",
       "      <td>14 days</td>\n",
       "      <td>(0.6509803921568628, 0.33725490196078434, 0.15...</td>\n",
       "    </tr>\n",
       "    <tr>\n",
       "      <th>7</th>\n",
       "      <td>Analiz</td>\n",
       "      <td>2023-06-15</td>\n",
       "      <td>2023-07-25</td>\n",
       "      <td>40 days</td>\n",
       "      <td>(0.9686274509803922, 0.5058823529411764, 0.749...</td>\n",
       "    </tr>\n",
       "  </tbody>\n",
       "</table>\n",
       "</div>"
      ],
      "text/plain": [
       "            Gorev  Baslangıc      Bitis  Gunler  \\\n",
       "0        Planlama 2023-01-15 2023-03-15 59 days   \n",
       "1       Araştırma 2023-02-15 2023-03-15 28 days   \n",
       "2          Dizayn 2023-03-01 2023-04-15 45 days   \n",
       "3        Uygulama 2023-04-15 2023-07-01 77 days   \n",
       "4            Test 2023-06-15 2023-07-15 30 days   \n",
       "5  Kalite_kontrol 2023-07-15 2023-07-15  0 days   \n",
       "6     Kabul_testi 2023-07-01 2023-07-15 14 days   \n",
       "7          Analiz 2023-06-15 2023-07-25 40 days   \n",
       "\n",
       "                                               color  \n",
       "0  (0.8941176470588236, 0.10196078431372549, 0.10...  \n",
       "1  (0.21568627450980393, 0.49411764705882355, 0.7...  \n",
       "2  (0.30196078431372547, 0.6862745098039216, 0.29...  \n",
       "3  (0.596078431372549, 0.3058823529411765, 0.6392...  \n",
       "4                     (1.0, 0.4980392156862745, 0.0)  \n",
       "5                                    (1.0, 1.0, 0.2)  \n",
       "6  (0.6509803921568628, 0.33725490196078434, 0.15...  \n",
       "7  (0.9686274509803922, 0.5058823529411764, 0.749...  "
      ]
     },
     "execution_count": 13,
     "metadata": {},
     "output_type": "execute_result"
    }
   ],
   "source": [
    "gorev = [\"Planlama\",\"Araştırma\",\"Dizayn\",\"Uygulama\",\"Test\",\"Kalite_kontrol\",\"Kabul_testi\",\"Analiz\"]\n",
    "baslama_tarihi = [\"2023-1-15\",\"2023-2-15\",\"2023-3-1\",\"2023-4-15\",\"2023-6-15\",\"2023-7-15\",\"2023-7-1\",\"2023-6-15\"]\n",
    "bitis_tarihi = [\"2023-3-15\",\"2023-3-15\",\"2023-4-15\",\"2023-7-1\",\"2023-7-15\",\"2023-7-15\",\"2023-7-15\",\"2023-7-25\"]\n",
    "\n",
    "df =pd.DataFrame(data={\"Gorev\" : gorev,\"Baslangıc\" : baslama_tarihi,\"Bitis\" : bitis_tarihi})\n",
    "df[\"Baslangıc\"] = pd.to_datetime(df.Baslangıc)\n",
    "df[\"Bitis\"]     = pd.to_datetime(df.Bitis)\n",
    "df[\"Gunler\"]    = df[\"Bitis\"] - df[\"Baslangıc\"]\n",
    "df[\"color\"]     = plt.cm.Set1.colors[:len(df)]\n",
    "df"
   ]
  },
  {
   "cell_type": "code",
   "execution_count": 21,
   "id": "fe9dad1a",
   "metadata": {},
   "outputs": [
    {
     "data": {
      "image/png": "[encoded data removed]",
      "text/plain": [
       "<Figure size 864x576 with 1 Axes>"
      ]
     },
     "metadata": {
      "needs_background": "light"
     },
     "output_type": "display_data"
    }
   ],
   "source": [
    "fig = plt.figure(figsize=(12,8))\n",
    "plt.barh(y=df[\"Gorev\"], left=df[\"Baslangıc\"], width=df[\"Gunler\"],color=df[\"color\"]);"
   ]
  },
  {
   "cell_type": "markdown",
   "id": "56f254c1",
   "metadata": {},
   "source": [
    "#VERİ ANALİZİYLE UĞRAŞTIĞIM İÇİN BÖYLE BİR ŞEY YAPMAK İSTEDİM."
   ]
  },
  {
   "cell_type": "markdown",
   "id": "543d260a",
   "metadata": {},
   "source": [
    "#datatime'ı import edemedim sebebini çok araştırdım ama anlayamadım."
   ]
  },
  {
   "cell_type": "markdown",
   "id": "3a659f37",
   "metadata": {},
   "source": [
    "#X ekseninde ayların yazması gerekiyordu.Datetimeyi import etmiyor."
   ]
  },
  {
   "cell_type": "markdown",
   "id": "c1a966fc",
   "metadata": {},
   "source": [
    "Determine and define  an IT project :\n",
    "\n",
    "IT projects are the steps of project management that include tasks such as developing a desired software or developing an already existing system, controlling the budget, controlling the time, planning, analyzing and managing, regardless of whether the company is small or large. ."
   ]
  },
  {
   "cell_type": "markdown",
   "id": "0bf9c531",
   "metadata": {},
   "source": [
    "Determine the project  manager and Team : \n",
    "\n",
    "The project manager is the person responsible for the successful completion of the project from the planning stage to the management stage of the desired project within the allotted time and budget.\n",
    "\n",
    "The team is the it consists of people who work to successfully complete the project. It is something with people from many fields of expertise. Of course, the size of this team differs from project to project."
   ]
  }
 ],
 "metadata": {
  "kernelspec": {
   "display_name": "Python 3 (ipykernel)",
   "language": "python",
   "name": "python3"
  },
  "language_info": {
   "codemirror_mode": {
    "name": "ipython",
    "version": 3
   },
   "file_extension": ".py",
   "mimetype": "text/x-python",
   "name": "python",
   "nbconvert_exporter": "python",
   "pygments_lexer": "ipython3",
   "version": "3.9.12"
  }
 },
 "nbformat": 4,
 "nbformat_minor": 5
}
